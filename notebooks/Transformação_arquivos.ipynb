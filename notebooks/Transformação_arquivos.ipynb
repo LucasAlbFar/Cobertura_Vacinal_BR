{
  "nbformat": 4,
  "nbformat_minor": 0,
  "metadata": {
    "colab": {
      "name": "Draft_transformação_arquivos.ipynb",
      "provenance": [],
      "collapsed_sections": [],
      "authorship_tag": "ABX9TyNaEDOiHvudjCehpWiChYop",
      "include_colab_link": true
    },
    "kernelspec": {
      "name": "python3",
      "display_name": "Python 3"
    },
    "language_info": {
      "name": "python"
    }
  },
  "cells": [
    {
      "cell_type": "markdown",
      "metadata": {
        "id": "view-in-github",
        "colab_type": "text"
      },
      "source": [
        "<a href=\"https://colab.research.google.com/github/LucasAlbFar/Cobertura_Vacinal_BR/blob/main/notebooks/Transforma%C3%A7%C3%A3o_arquivos.ipynb\" target=\"_parent\"><img src=\"https://colab.research.google.com/assets/colab-badge.svg\" alt=\"Open In Colab\"/></a>"
      ]
    },
    {
      "cell_type": "markdown",
      "metadata": {
        "id": "jaQvNucd3kw1"
      },
      "source": [
        "# Transformação dos arquivos\n",
        "\n",
        "## Notebook responsável por carregar os arquivos gerados pelo 'Gerar_csv_formatado.ipynb', através do diretório 'dados_carregados;\n",
        "\n",
        "## Realiza as atualizações de formatação dos arquivos para a análise exploratória dos dados (EDA.ipynb) \n",
        "\n",
        "## Arquivos gerados neste notebook são salvos no diretório 'dados_transformados'"
      ]
    },
    {
      "cell_type": "code",
      "metadata": {
        "id": "D6FLJerUTu22"
      },
      "source": [
        "import pandas as pd\n",
        "import numpy as np"
      ],
      "execution_count": null,
      "outputs": []
    },
    {
      "cell_type": "code",
      "metadata": {
        "id": "RyTDEIstT2p6"
      },
      "source": [
        "def carregar_arquivos(name_files: list, dicionario_arquivos: dict):\n",
        "  '''\n",
        "    - Carregar os arquivos em CSV para Pandas DataFrame, contidos no parâmetro 'name_files', no diretório '/dados', para o dicionário 'dicionario_arquivos'\n",
        "    - Parâmetros: Name Files contém a lista dos nomes dos arquivos a serem transformados em Pandas DataFrame\n",
        "                  Dicionário Arquivos será o dicionário a ser construído nessa função, contendo o nome do arquivo e seu representação em Pandas DataFrame\n",
        "  '''\n",
        "\n",
        "  for name in name_files:\n",
        "    nome_diretorio = '../content/dados_carregados/' + name + '.csv'\n",
        "    dicionario_arquivos[name] = pd.read_csv(nome_diretorio)\n",
        "\n",
        "    index = dicionario_arquivos[name].iloc[:,0].name\n",
        "    dicionario_arquivos[name] = dicionario_arquivos[name].set_index(index)"
      ],
      "execution_count": null,
      "outputs": []
    },
    {
      "cell_type": "code",
      "metadata": {
        "id": "2D4-7fklYD_t"
      },
      "source": [
        "def dataframe_comparativo_regiao_uf_capital(regiao: str, uf: str, capital: str):\n",
        "  '''\n",
        "    - Criar Pandas Dataframe para comparar os dados de cobertura vacinal entre um Estado, sua Capital e a sua região geográfica \n",
        "    - Parâmetros: Região geográfica do estado e capital\n",
        "                  UF contendo o estado brasileiro\n",
        "                  Capital da UF do parâmetro anterior\n",
        "    - Retorno: Pandas DataFrame\n",
        "  '''\n",
        "\n",
        "  df = pd.DataFrame(dicionario_arquivos['ano_por_uf'].T[uf])\n",
        "  df[capital] = dicionario_arquivos['ano_por_capital'].T[capital]\n",
        "  df[regiao] = dicionario_arquivos['ano_por_regiao'].T[regiao]\n",
        "  df = df.reset_index().melt(id_vars=['index'], value_vars=df.columns)\n",
        "  df.columns = ['ano', 'item', 'cobertura']\n",
        "  return df"
      ],
      "execution_count": null,
      "outputs": []
    },
    {
      "cell_type": "code",
      "metadata": {
        "id": "Oi283jrLglPj"
      },
      "source": [
        "def dados_transformados_para_csv(dicionario_arquivos: dict):\n",
        "  '''\n",
        "    - Salvar cada item contido na lista 'list_file' no diretório '../contente/dados_transformados/'\n",
        "    - Parâmetros: Dicionario_arquivos contentdo o nome de cada arquivo e o DatFrame Pandas correspondente\n",
        "  '''\n",
        "\n",
        "  arquivos = [\n",
        "    'ano_por_imuno',\n",
        "    'ano_por_capital',\n",
        "    'ano_por_uf',\n",
        "    'ano_por_regiao', \n",
        "    'imuno_por_capital',\n",
        "    'imuno_por_uf',\n",
        "    'imuno_por_regiao',\n",
        "    'morbidade_tuberculose',\n",
        "    'morbidade_meningite',\n",
        "    'total_por_ano_uf',\n",
        "    'comparativo_norte',\n",
        "    'comparativo_nordeste',\n",
        "    'comparativo_centro_oeste',\n",
        "    'comparativo_sudeste',\n",
        "    'comparativo_sul',\n",
        "    'total_por_enfermidade',\n",
        "    'total_por_imuno',\n",
        "    'enfermidades_e_imunos',\n",
        "    'imunos_e_enfermidades',\n",
        "    'bcg_tuberculose_ano_a_ano',\n",
        "    'meningococo_meningite_ano_a_ano',\n",
        "    'bcg_uf',\n",
        "    'meningococo_uf',\n",
        "    'obitos_tuberculose_por_uf',\n",
        "    'obitos_meningite_por_uf',\n",
        "    'obitos_tuberculose_comparativo',\n",
        "    'obitos_meningite_comparativo'\n",
        "  ]\n",
        "\n",
        "  for item in arquivos:\n",
        "    file_name = '../content/dados_transformados/'+ item + '.csv'\n",
        "    dicionario_arquivos[item].to_csv(file_name)\n",
        "\n",
        "  print(f'{len(arquivos)} arquivos salvos no diretório dados_transformados.')"
      ],
      "execution_count": null,
      "outputs": []
    },
    {
      "cell_type": "code",
      "metadata": {
        "id": "wjrnnwBrXQj9"
      },
      "source": [
        "def merge_base_dados(dict_merge: dict, chave: str):\n",
        "  '''\n",
        "    - Realizar o merge nos dataframes contidos no dicionário 'dict_merge', pelo parâmetro 'chave\n",
        "    - Parâmetros: Dict_merge contém os dataframes pandas à serem processados\n",
        "                  Chave que será utilizada no comando pd.merge\n",
        "    - Retorno: Pandas DataFrame\n",
        "  '''\n",
        "\n",
        "  i = 0\n",
        "  while (i < (len(dicionario_merge)-1)):\n",
        "    if (i==0):\n",
        "      data_frame = list(dicionario_merge.values())[i]\n",
        "\n",
        "    data_frame = pd.merge(data_frame, list(dicionario_merge.values())[i+1], on=chave)\n",
        "    i+=1\n",
        "\n",
        "  return data_frame"
      ],
      "execution_count": null,
      "outputs": []
    },
    {
      "cell_type": "code",
      "metadata": {
        "id": "3U6oMocZwb6a"
      },
      "source": [
        "def morbidade_por_enfermidade(enfermidade: str, name_files: dict):\n",
        "  '''\n",
        "    - Selecionar os arquivos de determinada enfermidade para serem agreagados através da função 'merge_base_dados'\n",
        "    - Parâmetros: Enfermidade com o nome a ser pesquisado na lista 'name_files'\n",
        "                  Name_files com o nome dos arquivos carregados, via URL, pelo notebook 'Gera_csv_formatado'\n",
        "  '''\n",
        "\n",
        "  nome_enfermidade = 'morbidade_' + enfermidade\n",
        "\n",
        "  for item in name_files:\n",
        "    if nome_enfermidade in item:\n",
        "      dicionario_merge[item] = dicionario_arquivos[item]\n",
        "\n",
        "  \n",
        "  dicionario_arquivos[nome_enfermidade] = merge_base_dados(dicionario_merge, 'Unidade da Federação')\n",
        "  dicionario_arquivos[nome_enfermidade] = dicionario_arquivos[nome_enfermidade].replace('-', 0)\n",
        "  dicionario_arquivos[nome_enfermidade] = dicionario_arquivos[nome_enfermidade].astype('int64')\n"
      ],
      "execution_count": null,
      "outputs": []
    },
    {
      "cell_type": "code",
      "metadata": {
        "id": "6sAO9MoIjTqO"
      },
      "source": [
        "def comparativo_vacina_obitos(enfermidade: str, imuno: str):\n",
        "  '''\n",
        "    - Criar Pandas DataFrame com os dados anuais de óbitos por determinada enfermidade, com a cobertura do imuno vacinal\n",
        "    - Parâmetros: Enfermidade para acessar os dados contidos em 'dicionario_arquivos'\n",
        "                  Imuno para acessar os dados contidos em 'dicionario_arquivos['ano_por_imuno']'\n",
        "  '''\n",
        "\n",
        "  nome_enfermidade = 'morbidade_' + enfermidade\n",
        "  df = pd.DataFrame(dicionario_arquivos[nome_enfermidade].sum())\n",
        "  df = df.reset_index()\n",
        "  df.columns = ['Ano', 'óbitos']\n",
        "  df['Ano'] = df['Ano'].astype('int64')\n",
        "  df = df.set_index('Ano')\n",
        "\n",
        "  df_dict = pd.DataFrame(dicionario_arquivos['ano_por_imuno'][imuno])\n",
        "  df_dict = pd.merge(df_dict, df, on='Ano')\n",
        "\n",
        "  if (enfermidade == 'tuberculose'):\n",
        "    df_dict = df_dict.iloc[3:,:]\n",
        "\n",
        "  return df_dict"
      ],
      "execution_count": null,
      "outputs": []
    },
    {
      "cell_type": "code",
      "metadata": {
        "id": "671PP_gojRpC"
      },
      "source": [
        "def obitos_enfermidade_por_uf(nome_arquivo: str):\n",
        "  '''\n",
        "    - Criar Pandas DataFrame com os dados de óbitos de determinada enfermidade em cada UF ao longo do período\n",
        "    - Parâmetro: Nome_arquivo contido em 'dicionario_arquivos' \n",
        "    - Retorno: Pandas DataFrame com o somatório de todos os óbitos de determinada enfermidade\n",
        "  '''\n",
        "  df = pd.DataFrame(dicionario_arquivos[nome_arquivo].T.sum())\n",
        "  df = df.reset_index()\n",
        "  df.columns = ['uf', 'óbitos']\n",
        "  df = df.set_index('uf')\n",
        "\n",
        "  return df\n"
      ],
      "execution_count": null,
      "outputs": []
    },
    {
      "cell_type": "code",
      "metadata": {
        "id": "ns2_AzWLwOOf"
      },
      "source": [
        "def cobertura_vacinal_por_uf(imuno: str):\n",
        "  '''\n",
        "    - Criar Pandas DataFrame com os dados de cobertura de determinado imuno em cada UF ao longo do período\n",
        "    - Parâmetro: Imuno contido em 'dicionario_arquivos['imuno_por_uf']' \n",
        "    - Retorno: Pandas DataFrame com o somatório da cobertura vacinal de determinado imuno\n",
        "  '''\n",
        "  df = pd.DataFrame(data=dicionario_arquivos['imuno_por_uf'][imuno])\n",
        "  df = df.reset_index()\n",
        "  df.columns = ['uf', 'cobertura']\n",
        "  df = df.sort_values(by='cobertura', ascending=False)\n",
        "\n",
        "  return df"
      ],
      "execution_count": null,
      "outputs": []
    },
    {
      "cell_type": "code",
      "metadata": {
        "id": "HXQ3JZ3iwzU4"
      },
      "source": [
        "def comparativo_obitos_uf (enfermidade: str, nome_arquivo: str, lista_estados: list):\n",
        "  '''\n",
        "    - Criar Pandas DataFrame com os óbitos por determinada enfermidade, ao longo dos anos\n",
        "    - Parâmetros: Enfermidade com o nome da enfermidade a ser investigada\n",
        "                  Nome_arquivo contendo o arquivo a ser recuperados os dados\n",
        "                  Lista_estados contendo os Estados a serem selecionados para análise\n",
        "  '''\n",
        "  df = dicionario_arquivos[nome_arquivo].T[lista_estados]\n",
        "  \n",
        "  if (enfermidade == 'tuberculose'):\n",
        "    df = df.T.drop(['1995', '1996', '1997'], axis=1)\n",
        "  \n",
        "  df = df.reset_index().melt(id_vars=['Unidade da Federação'], value_vars=df.columns) \n",
        "  df.columns=['uf', 'ano', 'obitos']\n",
        "  df = df.sort_values(by='obitos', ascending=False)\n",
        "\n",
        "  return df"
      ],
      "execution_count": null,
      "outputs": []
    },
    {
      "cell_type": "code",
      "metadata": {
        "id": "HbqAx8g9dIEe"
      },
      "source": [
        "def criar_data_frame(dicionario_dados: dict):\n",
        "  '''\n",
        "    - Criar Pandas DataFrame à partir de um dicionário de dados\n",
        "    - Parâmetros: Dicionario_dados contendo os registros a serem transformados em Pandas DataFrame\n",
        "  '''\n",
        "  df = pd.DataFrame(dicionario_dados)\n",
        "  df = df.T\n",
        "  df = df.fillna('-')\n",
        "\n",
        "  return df\n"
      ],
      "execution_count": null,
      "outputs": []
    },
    {
      "cell_type": "code",
      "metadata": {
        "id": "ABm38-uWefxL"
      },
      "source": [
        "def total_por_categoria(arquivo: pd.DataFrame, categoria: str):\n",
        "  '''\n",
        "    - Criar Pandas DataFrame com o total por imuno ou enfermidade \n",
        "    - Parâmetros: Arquivo a ser recuperado os registros\n",
        "                  Categoria à ser analisada, podendo assumir os valores de 'enfermidade' ou 'imuno'\n",
        "  '''\n",
        "\n",
        "  if (categoria=='enfermidade'):\n",
        "    df = pd.DataFrame(arquivo.sum(axis=1))\n",
        "  else:\n",
        "    df = pd.DataFrame(arquivo.T.mean(axis=1))\n",
        "\n",
        "  df = df.reset_index()\n",
        "  df.columns = [categoria,'cobertura']\n",
        "  df = df.sort_values('cobertura', ascending=False)\n",
        "\n",
        "  return df\n"
      ],
      "execution_count": null,
      "outputs": []
    },
    {
      "cell_type": "code",
      "metadata": {
        "id": "6UAW9KNcUDoq"
      },
      "source": [
        "# Realizando o carregamento das bases de dados à serem analisadas\n",
        "name_files = [\n",
        "  'ano_por_imuno',\n",
        "  'ano_por_capital',\n",
        "  'ano_por_uf',\n",
        "  'ano_por_regiao', \n",
        "  'imuno_por_capital',\n",
        "  'imuno_por_uf',\n",
        "  'imuno_por_regiao',\n",
        "  'morbidade_tuberculose_1995_1997_cid09',\n",
        "  'morbidade_tuberculose_1998_2007_cid10',\n",
        "  'morbidade_tuberculose_2008_2021',\n",
        "  'morbidade_meningite_1995_1997_cid09',\n",
        "  'morbidade_meningite_1998_2007_cid10',\n",
        "  'morbidade_meningite_2008_2021'\n",
        "  ]\n",
        "\n",
        "dicionario_arquivos = {}\n",
        "carregar_arquivos(name_files,dicionario_arquivos)"
      ],
      "execution_count": null,
      "outputs": []
    },
    {
      "cell_type": "code",
      "metadata": {
        "id": "tFsHkdC5y9cJ"
      },
      "source": [
        "# Criando bases de total de óbitos por enfermidade\n",
        "dicionario_merge = {}\n",
        "morbidade_por_enfermidade('tuberculose',name_files)\n",
        "\n",
        "dicionario_merge = {}\n",
        "morbidade_por_enfermidade('meningite',name_files)"
      ],
      "execution_count": null,
      "outputs": []
    },
    {
      "cell_type": "code",
      "metadata": {
        "id": "P8htq8-o3r5J"
      },
      "source": [
        "# Criando base 'total_por_ano_uf'\n",
        "dicionario_arquivos['total_por_ano_uf'] = pd.DataFrame(dicionario_arquivos['ano_por_uf'].T.sum(axis=1))"
      ],
      "execution_count": null,
      "outputs": []
    },
    {
      "cell_type": "code",
      "metadata": {
        "id": "jGMRFlt9aKip"
      },
      "source": [
        "# Criando base de comparativo da cobertura vacinal entre Região Geográfica, Estado e a Capital desse Estado\n",
        "dicionario_arquivos['comparativo_norte'] = dataframe_comparativo_regiao_uf_capital('Norte','Amazonas','Manaus')\n",
        "dicionario_arquivos['comparativo_nordeste'] = dataframe_comparativo_regiao_uf_capital('Nordeste','Ceará','Fortaleza')\n",
        "dicionario_arquivos['comparativo_centro_oeste'] = dataframe_comparativo_regiao_uf_capital('Centro-Oeste','Mato Grosso','Cuiabá')\n",
        "dicionario_arquivos['comparativo_sudeste'] = dataframe_comparativo_regiao_uf_capital('Sudeste','Minas Gerais','Belo Horizonte')\n",
        "dicionario_arquivos['comparativo_sul'] = dataframe_comparativo_regiao_uf_capital('Sul','Rio Grande do Sul','Porto Alegre')"
      ],
      "execution_count": null,
      "outputs": []
    },
    {
      "cell_type": "code",
      "metadata": {
        "id": "3SzPzvokdctb"
      },
      "source": [
        "# Criando base de dados 'enfermidades_e_imunos'\n",
        "enfermidades_e_imunos = {\n",
        "        'Tuberculose': {'Imuno_1': 'BCG'},\n",
        "        'Hepatite A': {'Imuno_1': 'Hepatite A'},\n",
        "        'Hepatite B': {'Imuno_1': 'Hepatite B', 'Imuno_2': 'Penta', 'Imuno_3': 'Hepatite B em crianças até 30 dias'},\n",
        "        'Poliomielite': {'Imuno_1': 'Poliomielite', 'Imuno_2': 'Poliomielite(1º ref)', 'Imuno_3': 'Poliomielite 4 anos'},\n",
        "        'Coqueluche': {'Imuno_1': 'Tetravalente (DTP/Hib) (TETRA)', 'Imuno_2': 'Penta', 'Imuno_3': 'Tríplice Bacteriana(DTP)(1º ref)'},\n",
        "        'Difteria': {'Imuno_1': 'Tetravalente (DTP/Hib) (TETRA)', 'Imuno_2': 'Penta', 'Imuno_3': 'Tríplice Bacteriana(DTP)(1º ref)', 'Imuno_4': 'Dupla adulto e tríplice acelular gestante'},\n",
        "        'Tétano': {'Imuno_1': 'Tetravalente (DTP/Hib) (TETRA)', 'Imuno_2': 'Penta', 'Imuno_3': 'dTpa gestante', 'Imuno_4': 'DTP REF (4 e 6 anos)', 'Imuno_5': 'DTP', 'Imuno_6': 'Tríplice Bacteriana(DTP)(1º ref)', 'Imuno_7': 'Dupla adulto e tríplice acelular gestante'},\n",
        "        'Rubéola': {'Imuno_1': 'Tríplice Viral D1', 'Imuno_2': 'Tríplice Viral D2', 'Imuno_3': 'Tetra Viral(SRC+VZ)'},\n",
        "        'Influenzae': {'Imuno_1': 'Haemophilus influenzae b', 'Imuno_2': 'Tetravalente (DTP/Hib) (TETRA)', 'Imuno_3': 'Penta'},\n",
        "        'Rotavírus ': {'Imuno_1': 'Rotavírus Humano'},\n",
        "        'Febre Amarela': {'Imuno_1': 'Febre Amarela'},\n",
        "        'Meningite': {'Imuno_1': 'Meningococo C'},\n",
        "        'Pneumonia': {'Imuno_1': 'Pneumocócica(1º ref)'},\n",
        "        'Sarampo': {'Imuno_1': 'Tríplice Viral D1', 'Imuno_2': 'Tríplice Viral D2', 'Imuno_3': 'Tetra Viral(SRC+VZ)', 'Imuno_4': 'Sarampo'},\n",
        "        'Caxumba': {'Imuno_1': 'Tetra Viral(SRC+VZ)'},\n",
        "        }\n",
        "        \n",
        "dicionario_arquivos['enfermidades_e_imunos'] = criar_data_frame(enfermidades_e_imunos)\n"
      ],
      "execution_count": null,
      "outputs": []
    },
    {
      "cell_type": "code",
      "metadata": {
        "id": "9poeCeLV3ryS"
      },
      "source": [
        "# Criando de base de dados relacionando o imuno com as enfermidades que o mesmo protege\n",
        "imunos_enfermidades = {\n",
        "        'BCG': {'enfermidade_1': 'Tuberculose'},\n",
        "        'DTP': {'enfermidade_1': 'Tétano'},\n",
        "        'DTP REF (4 e 6 anos)': {'enfermidade_1': 'Tétano'},\n",
        "        'Dupla adulto e tríplice acelular gestante': {'enfermidade_1': 'Tétano', 'enfermidade_2': 'Difteria'},\n",
        "        'Febre Amarela': {'enfermidade_1': 'Febre_Amarela'},\n",
        "        'Haemophilus influenzae b': {'enfermidade_1': 'Influenzae'},\n",
        "        'Hepatite A': {'enfermidade_1': 'Hepatite_A'},\n",
        "        'Hepatite B': {'enfermidade_1': 'Hepatite_B'},\n",
        "        'Hepatite B  em crianças até 30 dias': {'enfermidade_1': 'Hepatite_B'},\n",
        "        'Meningococo C': {'enfermidade_1': 'Meningite'},\n",
        "        'Penta': {'enfermidade_1': 'Coqueluche', 'enfermidade_2': 'Difteria', 'enfermidade_3': 'Hepatite_B', 'enfermidade_4': 'Influenzae', 'enfermidade_5': 'Tétano'},\n",
        "        'Pneumocócica(1º ref)': {'enfermidade_1': 'Pneumonia'},\n",
        "        'Poliomielite': {'enfermidade_1': 'Poliomielite'},\n",
        "        'Poliomielite 4 anos': {'enfermidade_1': 'Poliomielite'},\n",
        "        'Poliomielite(1º ref)': {'enfermidade_1': 'Poliomielite'},\n",
        "        'Rotavírus Humano': {'enfermidade_1': 'Rotavírus'},\n",
        "        'Sarampo': {'enfermidade_1': 'Sarampo'},\n",
        "        'Tetra Viral(SRC+VZ)': {'enfermidade_1': 'Caxumba', 'enfermidade_2': 'Rubéola', 'enfermidade_3': 'Sarampo'},\n",
        "        'Tetravalente (DTP/Hib) (TETRA)': {'enfermidade_1': 'Coqueluche', 'enfermidade_2': 'Difteria', 'enfermidade_3': 'Influenzae', 'enfermidade_4': 'Tétano'},\n",
        "        'Tríplice Bacteriana(DTP)(1º ref)': {'enfermidade_1': 'Coqueluche', 'enfermidade_2': 'Difteria', 'enfermidade_3': 'Tétano'},\n",
        "        'Tríplice Viral  D1': {'enfermidade_1': 'Rubéola', 'enfermidade_2': 'Sarampo'},\n",
        "        'Tríplice Viral  D2': {'enfermidade_1': 'Rubéola', 'enfermidade_2': 'Sarampo'},\n",
        "        'dTpa gestante': {'enfermidade_1': 'Tétano'}        \n",
        "        }\n",
        "\n",
        "dicionario_arquivos['imunos_e_enfermidades'] = criar_data_frame(imunos_enfermidades)\n",
        "\n",
        "dict_ano_por_enfermidade = {}\n",
        "cobertura_enfermidade = pd.DataFrame()\n",
        "\n",
        "for key, value in imunos_enfermidades.items():\n",
        "  for key_value, value_value in value.items():\n",
        "    if value_value in cobertura_enfermidade:\n",
        "      cobertura_enfermidade[value_value] = (cobertura_enfermidade[value_value] + dicionario_arquivos['ano_por_imuno'].T.loc[key]) / 2\n",
        "    else:\n",
        "      cobertura_enfermidade[value_value] =  dicionario_arquivos['ano_por_imuno'].T.loc[key]\n",
        "\n",
        "cobertura_enfermidade = cobertura_enfermidade.T"
      ],
      "execution_count": null,
      "outputs": []
    },
    {
      "cell_type": "code",
      "metadata": {
        "id": "JZXf_l8yfNft"
      },
      "source": [
        "# Criando de base de dados para visualizar a cobertura vacinal por enfermidade, ano à ano\n",
        "dicionario_arquivos['total_por_enfermidade'] = total_por_categoria(cobertura_enfermidade, 'enfermidade')"
      ],
      "execution_count": null,
      "outputs": []
    },
    {
      "cell_type": "code",
      "metadata": {
        "id": "brtVKmxEfkbY"
      },
      "source": [
        "# Criando de base de dados para visualizar a cobertura vacinal por imuno\n",
        "dicionario_arquivos['total_por_imuno'] = total_por_categoria(dicionario_arquivos['ano_por_imuno'], 'imuno')"
      ],
      "execution_count": null,
      "outputs": []
    },
    {
      "cell_type": "code",
      "metadata": {
        "id": "iqpXjWuojR2t"
      },
      "source": [
        "# Criando base para a comparação entre cobertura vacinal BCG e óbitos por tuberculose ano à ano\n",
        "dicionario_arquivos['bcg_tuberculose_ano_a_ano'] = comparativo_vacina_obitos('tuberculose','BCG')\n",
        "dicionario_arquivos['meningococo_meningite_ano_a_ano'] = comparativo_vacina_obitos('meningite','Meningococo C')"
      ],
      "execution_count": null,
      "outputs": []
    },
    {
      "cell_type": "code",
      "metadata": {
        "id": "eJndJybVjRgy"
      },
      "source": [
        "# Criando base para a comparação entre cobertura vacinal e óbitos por enfermidade nos estados\n",
        "dicionario_arquivos['obitos_tuberculose_por_uf'] = obitos_enfermidade_por_uf('morbidade_tuberculose')\n",
        "dicionario_arquivos['obitos_meningite_por_uf'] = obitos_enfermidade_por_uf('morbidade_meningite')"
      ],
      "execution_count": null,
      "outputs": []
    },
    {
      "cell_type": "code",
      "metadata": {
        "id": "FxZE2g3rwpJ8"
      },
      "source": [
        "# Criando base para validar a cobertura vacinal  nas UF's\n",
        "dicionario_arquivos['bcg_uf'] = cobertura_vacinal_por_uf('BCG')\n",
        "dicionario_arquivos['meningococo_uf'] = cobertura_vacinal_por_uf('Meningococo C')"
      ],
      "execution_count": null,
      "outputs": []
    },
    {
      "cell_type": "code",
      "metadata": {
        "id": "a6-WaOp5wzQM"
      },
      "source": [
        "# Criando base para comparação dos óbitos por tuberculose em alguns estados\n",
        "lista_estados = ['Roraima', 'Pará', 'Rio de Janeiro', 'Mato Grosso', 'Bahia', 'Minas Gerais']\n",
        "dicionario_arquivos['obitos_tuberculose_comparativo'] = comparativo_obitos_uf('tuberculose', 'morbidade_tuberculose',lista_estados)"
      ],
      "execution_count": null,
      "outputs": []
    },
    {
      "cell_type": "code",
      "metadata": {
        "id": "vH09x5ztKa5-"
      },
      "source": [
        "# Criando base para comparação dos óbitos por Infecção Meningocócica em alguns estados\n",
        "lista_estados = ['São Paulo', 'Goiás', 'Rondônia', 'Sergipe', 'Acre', 'Pará']\n",
        "dicionario_arquivos['obitos_meningite_comparativo'] = comparativo_obitos_uf('tuberculose', 'morbidade_tuberculose',lista_estados)"
      ],
      "execution_count": null,
      "outputs": []
    },
    {
      "cell_type": "code",
      "metadata": {
        "colab": {
          "base_uri": "https://localhost:8080/"
        },
        "id": "VYRLjlnpZrSG",
        "outputId": "4fcaa84d-bc30-412d-c0ae-2f214107015f"
      },
      "source": [
        "# Enviando os arquivos contidos em 'dicionario_arquivos' para o diretório '/dados_transformados/'\n",
        "dados_transformados_para_csv(dicionario_arquivos)"
      ],
      "execution_count": null,
      "outputs": [
        {
          "output_type": "stream",
          "text": [
            "27 arquivos salvos no diretório dados_transformados.\n"
          ],
          "name": "stdout"
        }
      ]
    }
  ]
}