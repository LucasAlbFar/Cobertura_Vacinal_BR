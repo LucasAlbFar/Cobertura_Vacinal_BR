{
  "nbformat": 4,
  "nbformat_minor": 0,
  "metadata": {
    "colab": {
      "name": "Gerar_csv_formatado.ipynb",
      "provenance": [],
      "collapsed_sections": [],
      "authorship_tag": "ABX9TyO7wTlkeRnqNrrvVHfbWSLS",
      "include_colab_link": true
    },
    "kernelspec": {
      "name": "python3",
      "display_name": "Python 3"
    },
    "language_info": {
      "name": "python"
    }
  },
  "cells": [
    {
      "cell_type": "markdown",
      "metadata": {
        "id": "view-in-github",
        "colab_type": "text"
      },
      "source": [
        "<a href=\"https://colab.research.google.com/github/LucasAlbFar/Cobertura_Vacinal_BR/blob/main/notebooks/Gerar_csv_formatado.ipynb\" target=\"_parent\"><img src=\"https://colab.research.google.com/assets/colab-badge.svg\" alt=\"Open In Colab\"/></a>"
      ]
    },
    {
      "cell_type": "markdown",
      "metadata": {
        "id": "FJH65Nj22fpH"
      },
      "source": [
        "# Gerar CSV Formatado\n",
        "\n",
        "## Funções para carregar arquivos via URL e gerar arquivos CSV, e salva-los no  na pasta 'dados_carregados'"
      ]
    },
    {
      "cell_type": "code",
      "metadata": {
        "id": "-vEmqzNjREqW"
      },
      "source": [
        "import pandas as pd\n",
        "import numpy as np"
      ],
      "execution_count": null,
      "outputs": []
    },
    {
      "cell_type": "code",
      "metadata": {
        "id": "qsbQhOGhYe9N"
      },
      "source": [
        "def remover_linha_ou_coluna_indevida(data_frame: pd.DataFrame, tipo: str, lista_nomes: list):\n",
        "  '''\n",
        "    - Remover linha ou coluna, que esteja localizado na lista 'lista_nomes'\n",
        "    - Parâmetros: Dataframe (tipo pandas) a ser atualizada\n",
        "                  Tipo: identificador de 'linha' ou 'coluna' a ser removida\n",
        "                  Lista de Nomes: Lista com o nome das linhas ou colunas a serem removidas\n",
        "    - Retorno: Dataframe do Pandas                  \n",
        "  '''\n",
        "  \n",
        "  if tipo == 'coluna':\n",
        "    nome_ultima_columa = data_frame.iloc[:,-1].name.strip()\n",
        "    while (nome_ultima_columa in lista_nomes):\n",
        "      data_frame = data_frame.iloc[: , :-1] \n",
        "      nome_ultima_columa = data_frame.iloc[:,-1].name\n",
        "  else:\n",
        "    nome_ultima_linha = data_frame.iloc[-1].name\n",
        "    while (nome_ultima_linha in lista_nomes):\n",
        "      data_frame = data_frame.iloc[:-1 , :]\n",
        "      nome_ultima_linha = data_frame.iloc[-1].name\n",
        "\n",
        "  return data_frame"
      ],
      "execution_count": null,
      "outputs": []
    },
    {
      "cell_type": "code",
      "metadata": {
        "id": "sHlVMwGMoHeT"
      },
      "source": [
        "def remover_cod_ibge_index(data_frame: pd.DataFrame, categoria: str):\n",
        "  '''\n",
        "    - Remover código IBGE contido no campo index do dataframe, de acordo com a categoria informada via parâmetro\n",
        "    - Parâmetros: Dataframe (tipo pandas) a ser atualizada\n",
        "                  Categoria do arquivo CSV contido na URL para remoção do código IBGE, podendo assumir os valores de:\n",
        "                    * capital\n",
        "                    * uf\n",
        "                    * regiao\n",
        "    - Retorno: Dataframe do Pandas                                  \n",
        "  '''\n",
        "\n",
        "  index_name = data_frame.index.name\n",
        "  \n",
        "  if (categoria == 'capital'):\n",
        "    data_frame.index = [(capital[7:]) for capital in data_frame.index]\n",
        "    data_frame.index.name = index_name\n",
        "  elif (categoria == 'uf'):\n",
        "    data_frame.index = [(estado[3:]) for estado in data_frame.index]\n",
        "    data_frame.index.name = index_name\n",
        "  elif (categoria == 'regiao'):\n",
        "    data_frame.index = [(regiao[9:]) for regiao in data_frame.index]\n",
        "    data_frame.index.name = index_name\n",
        "  else:\n",
        "    pass\n",
        "    \n",
        "  return data_frame"
      ],
      "execution_count": null,
      "outputs": []
    },
    {
      "cell_type": "code",
      "metadata": {
        "id": "IuPR5c3kaAaR"
      },
      "source": [
        "def carregar_e_limpar_csv_para_df(url: str, categoria: str, skiprows: int, skipfooter: int):\n",
        "  '''\n",
        "    - Transformar o CSV contido na URL em pandas data_frame, removendo as últimas linhas e colunas que não trazem registros \n",
        "      pertinentes às análises a serem realizadas. Neste cenário, caso existam linhas ou colunas com os nomes de 'Total' ou \n",
        "      'Ignorados' serão removidos para função 'remover_linha_ou_coluna_indevida';\n",
        "    - Determina a primeira coluna como índice do data_frame;\n",
        "    - Substitui valores nulos por regra de interpolação determinada pelo Pandas;\n",
        "    - Parâmetros: URL (tipo string) contendo o link do arquivo csv;\n",
        "                  Categoria do arquivo CSV contido na URL para remoção do código IBGE, podendo assumir os valores de:\n",
        "                    * capital\n",
        "                    * uf\n",
        "                    * regiao \n",
        "    - Retorno: Dataframe do Pandas\n",
        "  '''\n",
        "\n",
        "  lista_nomes_a_remover = ['Total', 'Ignorado', 'Ignorado/exterior']\n",
        "\n",
        "  # Carregando dados da url parâmetro\n",
        "  data_frame = pd.read_csv(url, encoding=\"ISO-8859-1\", sep=\";\", skiprows=skiprows, skipfooter=skipfooter, thousands='.', decimal=',', engine='python') \n",
        "\n",
        "  # Removendo colunas contidas em lista_nomes_a_remover   \n",
        "  data_frame = remover_linha_ou_coluna_indevida(data_frame,'coluna',lista_nomes_a_remover)\n",
        "\n",
        "  # Definindo novo índice do dataframe\n",
        "  index = data_frame.iloc[:,0].name\n",
        "  data_frame = data_frame.set_index(index)\n",
        "\n",
        "  # Removendo linhas contidas em lista_nomes_a_remover \n",
        "  data_frame = remover_linha_ou_coluna_indevida(data_frame,'linha',lista_nomes_a_remover)\n",
        "\n",
        "  # Validando a existência de dados nulos e preenchendo esses valores com a função nativa de interpolação do pandas\n",
        "  dados_nulos = data_frame.isnull().sum().sum()\n",
        "  if (dados_nulos > 0):\n",
        "    data_frame = data_frame.replace('-', np.nan)\n",
        "    data_frame = data_frame.astype('float64') \n",
        "    data_frame = data_frame.fillna(data_frame.interpolate())\n",
        "  \n",
        "  # Removendo código IBGE Capital, Unidade da Federação ou Região (conforme parâmetro) do campo index\n",
        "  if (categoria):\n",
        "    data_frame = remover_cod_ibge_index(data_frame, categoria)\n",
        "\n",
        "  return data_frame"
      ],
      "execution_count": null,
      "outputs": []
    },
    {
      "cell_type": "code",
      "metadata": {
        "id": "87Cvr7u2ybwC"
      },
      "source": [
        "def buscar_web_para_csv():\n",
        "  '''\n",
        "    - Recuperar arquivo via URL e transforma-lo para um arquivo CSV, com as formatações executdas pela função 'carregar_e_limpar_csv_para_df'\n",
        "  '''\n",
        "\n",
        "  # Dicionários de dados contendo as URLS dos arquivos à serem carregadas e as categorias de cada arquivo\n",
        "  urls = {\n",
        "      'ano_por_imuno'                          : {'url':'https://raw.githubusercontent.com/LucasAlbFar/Cobertura_Vacinal_BR/main/content/dados/ano_por_imuno.csv', 'categoria':'', 'skiprows': 0, 'skipfooter': 1},\n",
        "      'ano_por_capital'                        : {'url':'https://raw.githubusercontent.com/LucasAlbFar/Cobertura_Vacinal_BR/main/content/dados/ano_por_capital.csv', 'categoria':'capital', 'skiprows': 0, 'skipfooter': 1},\n",
        "      'ano_por_uf'                             : {'url':'https://raw.githubusercontent.com/LucasAlbFar/Cobertura_Vacinal_BR/main/content/dados/ano_por_uf.csv', 'categoria':'uf', 'skiprows': 0, 'skipfooter': 1},\n",
        "      'ano_por_regiao'                         : {'url':'https://raw.githubusercontent.com/LucasAlbFar/Cobertura_Vacinal_BR/main/content/dados/ano_por_regiao.csv', 'categoria':'regiao', 'skiprows': 0, 'skipfooter': 1},\n",
        "      'imuno_por_capital'                      : {'url':'https://raw.githubusercontent.com/LucasAlbFar/Cobertura_Vacinal_BR/main/content/dados/imuno_por_capital.csv', 'categoria':'capital', 'skiprows': 0, 'skipfooter': 1},\n",
        "      'imuno_por_uf'                           : {'url':'https://raw.githubusercontent.com/LucasAlbFar/Cobertura_Vacinal_BR/main/content/dados/imuno_por_uf.csv', 'categoria':'uf', 'skiprows': 0, 'skipfooter': 1},\n",
        "      'imuno_por_regiao'                       : {'url':'https://raw.githubusercontent.com/LucasAlbFar/Cobertura_Vacinal_BR/main/content/dados/imuno_por_regiao.csv', 'categoria':'regiao', 'skiprows': 0, 'skipfooter': 1},\n",
        "      'morbidade_tuberculose_1998_2007_cid10'  : {'url':'https://raw.githubusercontent.com/LucasAlbFar/Cobertura_Vacinal_BR/main/content/dados/morbidade_turbeculose_1998_2007_CID10.csv', 'categoria':'uf', 'skiprows': 4, 'skipfooter': 3},\n",
        "      'morbidade_tuberculose_1995_1997_cid09'  : {'url':'https://raw.githubusercontent.com/LucasAlbFar/Cobertura_Vacinal_BR/main/content/dados/morbidade_turbeculose_1995_1997_CID09.csv', 'categoria':'uf', 'skiprows': 4, 'skipfooter': 3},\n",
        "      'morbidade_tuberculose_2008_2021'        : {'url':'https://raw.githubusercontent.com/LucasAlbFar/Cobertura_Vacinal_BR/main/content/dados/morbidade_turbeculose_2008_2021_CID10.csv', 'categoria':'uf', 'skiprows': 4, 'skipfooter': 6},\n",
        "      'morbidade_meningite_1998_2007_cid10'    : {'url':'https://raw.githubusercontent.com/LucasAlbFar/Cobertura_Vacinal_BR/main/content/dados/morbidade_meningite_1998_2007_CID10.csv', 'categoria':'uf', 'skiprows': 4, 'skipfooter': 3},\n",
        "      'morbidade_meningite_1995_1997_cid09'    : {'url':'https://raw.githubusercontent.com/LucasAlbFar/Cobertura_Vacinal_BR/main/content/dados/morbidade_meningite_1995_1997_CID09.csv', 'categoria':'uf', 'skiprows': 4, 'skipfooter': 3},\n",
        "      'morbidade_meningite_2008_2021'          : {'url':'https://raw.githubusercontent.com/LucasAlbFar/Cobertura_Vacinal_BR/main/content/dados/morbidade_meningite_2008_2021_CID10.csv', 'categoria':'uf', 'skiprows': 4, 'skipfooter': 6}\n",
        "  }\n",
        "\n",
        "  # Execução da função 'carregar_e_limpar_csv_para_df' para cada URL do dicionário 'urls'\n",
        "  for url_key, url_value in urls.items():\n",
        "    file_name = '../content/dados_carregados/'+ url_key + '.csv'\n",
        "    carregar_e_limpar_csv_para_df(url_value['url'], url_value['categoria'], url_value['skiprows'], url_value['skipfooter']).to_csv(file_name)\n",
        "\n",
        "  print('Dados da web carregados para CSV no diretório /dados_carregados')\n"
      ],
      "execution_count": null,
      "outputs": []
    },
    {
      "cell_type": "code",
      "metadata": {
        "colab": {
          "base_uri": "https://localhost:8080/"
        },
        "id": "AcpoFxFE1-7M",
        "outputId": "cd0130c2-a5e3-4262-d8f6-d5a271215304"
      },
      "source": [
        "buscar_web_para_csv()"
      ],
      "execution_count": null,
      "outputs": [
        {
          "output_type": "stream",
          "text": [
            "Dados da web carregados para CSV no diretório /dados\n"
          ],
          "name": "stdout"
        }
      ]
    }
  ]
}